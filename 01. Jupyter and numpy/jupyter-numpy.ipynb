{
 "cells": [
  {
   "cell_type": "markdown",
   "metadata": {},
   "source": [
    "# Python in Jupyter Notebooks\n",
    "\n",
    "A jupyter notebook is an interactive environment for running **python** code (and more). It is divided in *cells* that can be executed individually in the same interactive session. This enables quick experimentation and allows you to also add explanations (like this cell just did). \n",
    "\n",
    "<img src=\"https://storage.googleapis.com/kaggle-forum-message-attachments/703594/14673/DATAAC.jpeg\" alt=\"meme\" style=\"width:600px\">\n",
    "\n",
    "Click on the next cell and run it using ```SHIFT+ENTER```"
   ]
  },
  {
   "cell_type": "code",
   "execution_count": 1,
   "metadata": {},
   "outputs": [
    {
     "name": "stdout",
     "output_type": "stream",
     "text": [
      "Look at me! I am the data scientist now!\n"
     ]
    }
   ],
   "source": [
    "print(\"Look at me! I am the data scientist now!\")"
   ]
  },
  {
   "cell_type": "markdown",
   "metadata": {},
   "source": [
    "Let's get a bit used to writing python code by doing a few exercises:"
   ]
  },
  {
   "cell_type": "markdown",
   "metadata": {},
   "source": [
    "### Pascal's Triangle\n",
    "Complete the function that prints a pascal triangle, as in the example below:\n",
    "\n",
    "<img src=\"https://upload.wikimedia.org/wikipedia/commons/0/0d/PascalTriangleAnimated2.gif\" alt=\"Pascal\">\n",
    "\n",
    "Use this formula for computing the value of the element $ C(i, j)  = \\frac{i!}{ (i-j)! * j! }$, where i is the row number and j is the column number.\n",
    "\n",
    "```py\n",
    ">>> pascal_triangle(5)\n",
    "1 \n",
    "1 1 \n",
    "1 2 1 \n",
    "1 3 3 1 \n",
    "1 4 6 4 1 \n",
    "```\n",
    "\n",
    "Using the factorial function defined below implement the ```pascal_triangle``` function.\n",
    "\n",
    "> Hint: check out the ```print``` function documentation [here](https://docs.python.org/3/library/functions.html#print) if you don't know how to make it not add the ```endline``` character after every call."
   ]
  },
  {
   "cell_type": "code",
   "execution_count": 2,
   "metadata": {},
   "outputs": [],
   "source": [
    "def factorial(x):\n",
    "    \"\"\"Returns the factorial of x\"\"\"\n",
    "    result = 1\n",
    "    for i in range(x):\n",
    "        result *= i+1\n",
    "    return result\n",
    "    \n",
    "\n",
    "def pascal_triangle(n):\n",
    "    \"\"\"Function that prints `n` rows of a Pascal triangle\"\"\"\n",
    "    for i in range(n):\n",
    "        for j in range(i+1):\n",
    "            print(\"%d\"%(factorial(i)/(factorial(i-j)*factorial(j))), end=\" \")\n",
    "        print()\n",
    "    pass\n"
   ]
  },
  {
   "cell_type": "markdown",
   "metadata": {},
   "source": [
    "Let's check our results"
   ]
  },
  {
   "cell_type": "code",
   "execution_count": 3,
   "metadata": {},
   "outputs": [
    {
     "name": "stdout",
     "output_type": "stream",
     "text": [
      "1 \n",
      "1 1 \n",
      "1 2 1 \n",
      "1 3 3 1 \n",
      "1 4 6 4 1 \n"
     ]
    }
   ],
   "source": [
    "pascal_triangle(5)"
   ]
  },
  {
   "cell_type": "markdown",
   "metadata": {},
   "source": [
    "### Monte Carlo estimation of $\\pi$\n",
    "\n",
    "Let's import the ```random``` library and do some basic list manipulation. "
   ]
  },
  {
   "cell_type": "code",
   "execution_count": 4,
   "metadata": {},
   "outputs": [
    {
     "name": "stdout",
     "output_type": "stream",
     "text": [
      "0.7951417733695352\n",
      "[0.37650580273832746, 0.1015700938723828, 0.4965878240040801]\n",
      "[0.1722860805188805, 0.31200754184427426, 0.42373787312464606]\n"
     ]
    }
   ],
   "source": [
    "# import the `random` python standard library\n",
    "import random\n",
    "\n",
    "# print a random real number betwwen 0 and 1\n",
    "print(random.random())\n",
    "\n",
    "# define an empty list\n",
    "samples = []\n",
    "\n",
    "# make a list of 3 random numbers\n",
    "for i in range(3):\n",
    "    samples.append(random.random())\n",
    "\n",
    "# print the list\n",
    "print(samples)\n",
    "\n",
    "# create the same list using `comprehensions`\n",
    "samples = [random.random() for _ in range(3)]\n",
    "print(samples)"
   ]
  },
  {
   "cell_type": "markdown",
   "metadata": {},
   "source": [
    "> Note that when creating any for loop you can replace the index variable with ```_``` if you are not going to use it and don't want it declared."
   ]
  },
  {
   "cell_type": "markdown",
   "metadata": {},
   "source": [
    "Considering a circle of diameter 1 inside of a square of length 1, we can sample random points inside the square count how many are also inside the circle:\n",
    "\n",
    "<img src=\"https://www.101computing.net/wp/wp-content/uploads/estimating-pi-monte-carlo-method.png\" alt=\"visual_example\" style=\"width:400\">\n",
    "\n",
    "$\\frac{N_\\text{inside}}{N_\\text{total}} \\approx \\frac{S_\\text{circle}}{S_\\text{square}} = \\frac{\\pi r^2}{4 r^2} \\Rightarrow \\pi \\approx \\frac{4 N_\\text{inside}}{N_\\text{total}}$\n",
    "\n",
    "Now complete the following function in order to return an approximation of $\\pi$ based on ```n``` random numbers. "
   ]
  },
  {
   "cell_type": "code",
   "execution_count": 5,
   "metadata": {},
   "outputs": [],
   "source": [
    "def approx_pi(n):\n",
    "    i = 0\n",
    "    for _ in range(n):\n",
    "        x = random.random()\n",
    "        y = random.random()\n",
    "        if((x**2+y**2 )<=1):\n",
    "            i += 1\n",
    "    return 4*i/n"
   ]
  },
  {
   "cell_type": "code",
   "execution_count": 6,
   "metadata": {},
   "outputs": [
    {
     "name": "stdout",
     "output_type": "stream",
     "text": [
      "[3.6, 3.2, 3.124, 3.198, 3.14284, 3.142864]\n"
     ]
    }
   ],
   "source": [
    "pis = [ approx_pi(10), approx_pi(100), approx_pi(1000),\n",
    "        approx_pi(10_000), approx_pi(100_000),  approx_pi(1_000_000)]\n",
    "print(pis)"
   ]
  },
  {
   "cell_type": "markdown",
   "metadata": {},
   "source": [
    "> Tip: you can add underscores to separate long numbers. They will be ignored by the interpreter, but they add clarity to your code"
   ]
  },
  {
   "cell_type": "code",
   "execution_count": 7,
   "metadata": {},
   "outputs": [
    {
     "name": "stdout",
     "output_type": "stream",
     "text": [
      "[0.458407346410207, 0.05840734641020706, 0.017592653589793006, 0.05640734641020684, 0.001247346410206962, 0.001271346410206764]\n"
     ]
    }
   ],
   "source": [
    "# python basic math library\n",
    "import math\n",
    "\n",
    "# calculate the approximation errors\n",
    "errors = []\n",
    "for approx in pis:\n",
    "    errors.append(abs(math.pi - approx))\n",
    "#print(errors)\n",
    "\n",
    "# BONUS: can you compute the erros using list comprehensions?\n",
    "errors = [abs(math.pi - approx) for approx in pis]\n",
    "print(errors)"
   ]
  },
  {
   "cell_type": "markdown",
   "metadata": {},
   "source": [
    "### Making simple plots "
   ]
  },
  {
   "cell_type": "code",
   "execution_count": 8,
   "metadata": {},
   "outputs": [
    {
     "data": {
      "image/png": "[encoded data removed]",
      "text/plain": [
       "<Figure size 432x288 with 1 Axes>"
      ]
     },
     "metadata": {
      "needs_background": "light"
     },
     "output_type": "display_data"
    }
   ],
   "source": [
    "import matplotlib.pyplot as plt\n",
    "\n",
    "# the x-axis value\n",
    "n_samples = [10, 100, 1000, 10_000, \n",
    "            100_000, 1_000_000]\n",
    "\n",
    "\n",
    "plt.figure()                                    # defining a figure\n",
    "plt.plot(n_samples, errors,                     # data for x and y axis\n",
    "            label=\"Monte Carlo for $\\pi$\")      # label visible in legend\n",
    "plt.xscale(\"log\")                               # logarithmic scale on x\n",
    "plt.xlabel(\"N samples\")                         \n",
    "plt.ylabel(\"Absolute error\")\n",
    "plt.legend()                                    # enable the legend\n",
    "plt.show()                                      # show the figure"
   ]
  },
  {
   "cell_type": "markdown",
   "metadata": {},
   "source": [
    "### The elephant in the room\n",
    "\n",
    "Python is **slow** !!! You can never come close to C++ performance for computation heavy tasks. But not all hope is lost, you can use *C++/Fortran* libraries inside python.\n",
    "\n",
    "**numpy** is a library that has python wrappers to C++ compute code. Let's take a look "
   ]
  },
  {
   "cell_type": "code",
   "execution_count": 9,
   "metadata": {},
   "outputs": [],
   "source": [
    "import numpy as np\n"
   ]
  },
  {
   "cell_type": "code",
   "execution_count": 10,
   "metadata": {},
   "outputs": [],
   "source": [
    "# Monte Carlo pi with numpy\n",
    "def approx_pi_fast(n):\n",
    "    x = np.random.random(n)\n",
    "    y = np.random.random(n)\n",
    "    d = x**2+y**2\n",
    "    inside = (d<=1.0).sum()\n",
    "\n",
    "    return 4*inside/n\n"
   ]
  },
  {
   "cell_type": "markdown",
   "metadata": {},
   "source": [
    "Let's see how much faster we can get"
   ]
  },
  {
   "cell_type": "code",
   "execution_count": 11,
   "metadata": {},
   "outputs": [
    {
     "name": "stdout",
     "output_type": "stream",
     "text": [
      "Wall time: 0 ns\n",
      "Wall time: 500 µs\n"
     ]
    },
    {
     "data": {
      "text/plain": [
       "3.6"
      ]
     },
     "execution_count": 11,
     "metadata": {},
     "output_type": "execute_result"
    }
   ],
   "source": [
    "n = 10\n",
    "%time approx_pi(n)\n",
    "%time approx_pi_fast(n)"
   ]
  },
  {
   "cell_type": "markdown",
   "metadata": {},
   "source": [
    "### Homework\n",
    "Make a plot of the execution time for ```approx_pi``` and ```approx_pi_fast``` for various number of samples. 1-10000000. Use the [timeit](https://docs.python.org/3/library/timeit.html) package.\n",
    "\n",
    "**Bonus:** Include the error bars for the measurement."
   ]
  },
  {
   "cell_type": "code",
   "execution_count": 12,
   "metadata": {},
   "outputs": [
    {
     "name": "stdout",
     "output_type": "stream",
     "text": [
      "[4.0, 3.16, 3.088, 3.1456, 3.13952, 3.140764, 3.141246]\n",
      "[3.6, 3.04, 3.18, 3.1336, 3.12452, 3.144312, 3.1418936]\n",
      "[1.639999999980546e-05, 7.529999999977832e-05, 0.0007134999999998115, 0.007245900000000027, 0.10118660000000013, 0.7539445000000002, 6.9600799]\n",
      "[4.7399999999697684e-05, 4.3699999999979866e-05, 0.00012060000000069238, 0.00034650000000002734, 0.004809500000000355, 0.02949330000000039, 0.30879420000000124]\n"
     ]
    }
   ],
   "source": [
    "import timeit\n",
    "pis=[]\n",
    "pis_fast=[]\n",
    "t=[]\n",
    "t_fast=[]\n",
    "x=[]\n",
    "errors=[]\n",
    "for i in np.logspace(start=1, stop=7, num=7 ):\n",
    "    #%time pis.append(approx_pi(int(i)))\n",
    "    #%time pis_fast.append(approx_pi_fast(int(i)))\n",
    "    x.append(i)\n",
    "    t.append(timeit.timeit('pis.append(approx_pi(int(i)))', number=1, globals=globals()))\n",
    "    t_fast.append(timeit.timeit('pis_fast.append(approx_pi_fast(int(i)))', number=1, globals=globals()))\n",
    "print(pis)\n",
    "print(pis_fast)\n",
    "print(t)\n",
    "print(t_fast)\n",
    "#errors = [abs(math.pi - approx) for approx in pis]\n",
    "for approx in pis:\n",
    "    errors.append(abs(math.pi - approx))\n",
    "errors_fast = [abs(math.pi - approx) for approx in pis_fast]"
   ]
  },
  {
   "cell_type": "code",
   "execution_count": 13,
   "metadata": {},
   "outputs": [
    {
     "data": {
      "image/png": "[encoded data removed]",
      "text/plain": [
       "<Figure size 432x288 with 1 Axes>"
      ]
     },
     "metadata": {
      "needs_background": "light"
     },
     "output_type": "display_data"
    }
   ],
   "source": [
    "plt.figure()                                    # defining a figure\n",
    "plt.errorbar(x, pis, fmt='go--',  label=\"random.random()\", yerr=errors)      # label visible in legend\n",
    "plt.errorbar(x, pis_fast, fmt='bo--',label=\"numpy random()\", yerr=errors_fast, capsize=3)\n",
    "plt.xscale(\"log\")                               # logarithmic scale on x\n",
    "#plt.yscale(\"log\")\n",
    "plt.xlabel(\"N samples\")                         \n",
    "plt.ylabel(\"Estimated value\")\n",
    "plt.legend()                                    # enable the legend\n",
    "plt.title(\"Value + Errors\")\n",
    "plt.show()  "
   ]
  },
  {
   "cell_type": "code",
   "execution_count": 14,
   "metadata": {},
   "outputs": [
    {
     "data": {
      "image/png": "[encoded data removed]",
      "text/plain": [
       "<Figure size 432x288 with 1 Axes>"
      ]
     },
     "metadata": {
      "needs_background": "light"
     },
     "output_type": "display_data"
    }
   ],
   "source": [
    "plt.figure()                                    # defining a figure\n",
    "plt.errorbar(x, t, fmt='go--', label=\"random.random()\", yerr=errors)      # label visible in legend\n",
    "plt.errorbar(x, t_fast, fmt='bo--', label=\"numpy random()\", yerr=errors_fast)\n",
    "plt.xscale(\"log\")                               # logarithmic scale on x\n",
    "plt.yscale(\"log\")\n",
    "plt.xlabel(\"N samples\")                         \n",
    "plt.ylabel(\"Time\")\n",
    "plt.legend()                                    # enable the legend\n",
    "plt.title(\"Execution Time\")\n",
    "plt.show()  "
   ]
  }
 ],
 "metadata": {
  "interpreter": {
   "hash": "a62f6b2946e6d7a95c764e97a0c29c36bb228e4c3413a060a602e21d79c49496"
  },
  "kernelspec": {
   "display_name": "Python 3 (ipykernel)",
   "language": "python",
   "name": "python3"
  },
  "language_info": {
   "codemirror_mode": {
    "name": "ipython",
    "version": 3
   },
   "file_extension": ".py",
   "mimetype": "text/x-python",
   "name": "python",
   "nbconvert_exporter": "python",
   "pygments_lexer": "ipython3",
   "version": "3.8.3"
  }
 },
 "nbformat": 4,
 "nbformat_minor": 2
}
